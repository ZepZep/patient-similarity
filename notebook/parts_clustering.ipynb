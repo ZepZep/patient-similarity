{
 "cells": [
  {
   "cell_type": "markdown",
   "id": "9a01d00b-4d8f-4d3b-b43d-d46a2db58886",
   "metadata": {},
   "source": [
    "# Selecting relevant segment types for patient similarity categories"
   ]
  },
  {
   "cell_type": "code",
   "execution_count": 1,
   "id": "4657fc6c-1781-454f-ad69-0dcdabc5a375",
   "metadata": {},
   "outputs": [],
   "source": [
    "import pandas as pd\n",
    "import numpy as np\n",
    "import seaborn as sns\n",
    "from matplotlib import pyplot as plt\n",
    "import json\n",
    "import random\n",
    "from pprint import pprint\n",
    "import os\n",
    "import sys\n",
    "import pickle\n",
    "from sklearn.metrics.pairwise import cosine_similarity\n",
    "\n",
    "AICOPE_PY_LIB = os.environ.get(\"AICOPE_PY_LIB\")\n",
    "if AICOPE_PY_LIB and AICOPE_PY_LIB not in sys.path: sys.path.append(AICOPE_PY_LIB)\n",
    "import importlib\n",
    "import aicnlp\n",
    "importlib.reload(aicnlp)\n",
    "\n",
    "%config Completer.use_jedi = False\n",
    "PACSIM_DATA = os.environ.get(\"AICOPE_SCRATCH\") + \"/pacsim\""
   ]
  },
  {
   "cell_type": "markdown",
   "id": "7153afb8-a406-4d88-bc53-b5ea7ec85b39",
   "metadata": {},
   "source": [
    "## Input"
   ]
  },
  {
   "cell_type": "code",
   "execution_count": 2,
   "id": "3003ed3e-a7b4-43ad-b127-94bf5c110692",
   "metadata": {},
   "outputs": [
    {
     "data": {
      "text/html": [
       "<div>\n",
       "<style scoped>\n",
       "    .dataframe tbody tr th:only-of-type {\n",
       "        vertical-align: middle;\n",
       "    }\n",
       "\n",
       "    .dataframe tbody tr th {\n",
       "        vertical-align: top;\n",
       "    }\n",
       "\n",
       "    .dataframe thead th {\n",
       "        text-align: right;\n",
       "    }\n",
       "</style>\n",
       "<table border=\"1\" class=\"dataframe\">\n",
       "  <thead>\n",
       "    <tr style=\"text-align: right;\">\n",
       "      <th></th>\n",
       "      <th>rid</th>\n",
       "      <th>pid</th>\n",
       "      <th>rord</th>\n",
       "      <th>srord</th>\n",
       "      <th>text</th>\n",
       "      <th>stext</th>\n",
       "      <th>title</th>\n",
       "      <th>stitle</th>\n",
       "      <th>label</th>\n",
       "      <th>tid</th>\n",
       "      <th>pred</th>\n",
       "      <th>ptitle</th>\n",
       "    </tr>\n",
       "  </thead>\n",
       "  <tbody>\n",
       "    <tr>\n",
       "      <th>0</th>\n",
       "      <td>0</td>\n",
       "      <td>0</td>\n",
       "      <td>0</td>\n",
       "      <td>0</td>\n",
       "      <td>different TITLE 8: Dolor adipisci labore modi...</td>\n",
       "      <td>Dolor adipisci labore modi porro consectetur ...</td>\n",
       "      <td>different TITLE 8:</td>\n",
       "      <td>different title #</td>\n",
       "      <td>12</td>\n",
       "      <td>13</td>\n",
       "      <td>13</td>\n",
       "      <td>different title #</td>\n",
       "    </tr>\n",
       "    <tr>\n",
       "      <th>1</th>\n",
       "      <td>0</td>\n",
       "      <td>0</td>\n",
       "      <td>0</td>\n",
       "      <td>1</td>\n",
       "      <td>OTHER  title  : Tempora adipisci ut quaerat nu...</td>\n",
       "      <td>Tempora adipisci ut quaerat numquam velit. Se...</td>\n",
       "      <td>OTHER  title  :</td>\n",
       "      <td>other title</td>\n",
       "      <td>21</td>\n",
       "      <td>22</td>\n",
       "      <td>22</td>\n",
       "      <td>other title</td>\n",
       "    </tr>\n",
       "    <tr>\n",
       "      <th>2</th>\n",
       "      <td>0</td>\n",
       "      <td>0</td>\n",
       "      <td>0</td>\n",
       "      <td>2</td>\n",
       "      <td>Tempora quaerat ut sed. Neque sit sed dolorem....</td>\n",
       "      <td>Tempora quaerat ut sed. Neque sit sed dolorem....</td>\n",
       "      <td>None</td>\n",
       "      <td>None</td>\n",
       "      <td>-1</td>\n",
       "      <td>-1</td>\n",
       "      <td>2</td>\n",
       "      <td>other title #</td>\n",
       "    </tr>\n",
       "    <tr>\n",
       "      <th>3</th>\n",
       "      <td>0</td>\n",
       "      <td>0</td>\n",
       "      <td>0</td>\n",
       "      <td>3</td>\n",
       "      <td>some OTHER title 8:\\nEius quiquia quisquam dol...</td>\n",
       "      <td>\\nEius quiquia quisquam dolore. Neque sit temp...</td>\n",
       "      <td>some OTHER title 8:</td>\n",
       "      <td>some other title #</td>\n",
       "      <td>16</td>\n",
       "      <td>17</td>\n",
       "      <td>17</td>\n",
       "      <td>some other title #</td>\n",
       "    </tr>\n",
       "    <tr>\n",
       "      <th>4</th>\n",
       "      <td>1</td>\n",
       "      <td>0</td>\n",
       "      <td>1</td>\n",
       "      <td>0</td>\n",
       "      <td>A  title 8: Porro aliquam velit voluptatem est...</td>\n",
       "      <td>Porro aliquam velit voluptatem est quaerat. A...</td>\n",
       "      <td>A  title 8:</td>\n",
       "      <td>a title #</td>\n",
       "      <td>0</td>\n",
       "      <td>1</td>\n",
       "      <td>1</td>\n",
       "      <td>a title #</td>\n",
       "    </tr>\n",
       "  </tbody>\n",
       "</table>\n",
       "</div>"
      ],
      "text/plain": [
       "   rid  pid  rord  srord                                               text  \\\n",
       "0    0    0     0      0   different TITLE 8: Dolor adipisci labore modi...   \n",
       "1    0    0     0      1  OTHER  title  : Tempora adipisci ut quaerat nu...   \n",
       "2    0    0     0      2  Tempora quaerat ut sed. Neque sit sed dolorem....   \n",
       "3    0    0     0      3  some OTHER title 8:\\nEius quiquia quisquam dol...   \n",
       "4    1    0     1      0  A  title 8: Porro aliquam velit voluptatem est...   \n",
       "\n",
       "                                               stext                title  \\\n",
       "0   Dolor adipisci labore modi porro consectetur ...   different TITLE 8:   \n",
       "1   Tempora adipisci ut quaerat numquam velit. Se...      OTHER  title  :   \n",
       "2  Tempora quaerat ut sed. Neque sit sed dolorem....                 None   \n",
       "3  \\nEius quiquia quisquam dolore. Neque sit temp...  some OTHER title 8:   \n",
       "4   Porro aliquam velit voluptatem est quaerat. A...          A  title 8:   \n",
       "\n",
       "               stitle  label  tid  pred              ptitle  \n",
       "0   different title #     12   13    13   different title #  \n",
       "1         other title     21   22    22         other title  \n",
       "2                None     -1   -1     2       other title #  \n",
       "3  some other title #     16   17    17  some other title #  \n",
       "4           a title #      0    1     1           a title #  "
      ]
     },
     "execution_count": 2,
     "metadata": {},
     "output_type": "execute_result"
    }
   ],
   "source": [
    "with open(f\"{PACSIM_DATA}/parts/tid2t.pickle\", \"rb\") as f:\n",
    "    tid2t = pickle.load(f)\n",
    "    t2tid = {v:k for k, v in tid2t.items()}\n",
    "\n",
    "parts = pd.read_feather(f\"{PACSIM_DATA}/parts/parts_pred.feather\")\n",
    "parts.head(5)"
   ]
  },
  {
   "cell_type": "code",
   "execution_count": 4,
   "id": "051dedc9-8419-4648-bc7a-d46f35c83daa",
   "metadata": {},
   "outputs": [
    {
     "data": {
      "text/html": [
       "<div>\n",
       "<style scoped>\n",
       "    .dataframe tbody tr th:only-of-type {\n",
       "        vertical-align: middle;\n",
       "    }\n",
       "\n",
       "    .dataframe tbody tr th {\n",
       "        vertical-align: top;\n",
       "    }\n",
       "\n",
       "    .dataframe thead th {\n",
       "        text-align: right;\n",
       "    }\n",
       "</style>\n",
       "<table border=\"1\" class=\"dataframe\">\n",
       "  <thead>\n",
       "    <tr style=\"text-align: right;\">\n",
       "      <th></th>\n",
       "      <th>title</th>\n",
       "      <th>pcount</th>\n",
       "      <th>vec</th>\n",
       "    </tr>\n",
       "  </thead>\n",
       "  <tbody>\n",
       "    <tr>\n",
       "      <th>1</th>\n",
       "      <td>a title #</td>\n",
       "      <td>1284</td>\n",
       "      <td>[-0.203216, -0.9543775, -1.4384353, 1.1079152,...</td>\n",
       "    </tr>\n",
       "    <tr>\n",
       "      <th>2</th>\n",
       "      <td>other title #</td>\n",
       "      <td>2753</td>\n",
       "      <td>[-0.23859496, 0.43761224, -0.75037026, 0.21120...</td>\n",
       "    </tr>\n",
       "  </tbody>\n",
       "</table>\n",
       "</div>"
      ],
      "text/plain": [
       "           title  pcount                                                vec\n",
       "1      a title #    1284  [-0.203216, -0.9543775, -1.4384353, 1.1079152,...\n",
       "2  other title #    2753  [-0.23859496, 0.43761224, -0.75037026, 0.21120..."
      ]
     },
     "execution_count": 4,
     "metadata": {},
     "output_type": "execute_result"
    }
   ],
   "source": [
    "categories = pd.DataFrame({\"title\": tid2t.values()}, index=tid2t.keys())\n",
    "categories[\"pcount\"] = parts[\"pred\"].value_counts()\n",
    "categories[\"vec\"] = list(np.load(f\"{PACSIM_DATA}/parts/d2v_titles.npy\"))\n",
    "categories.head(2)"
   ]
  },
  {
   "cell_type": "code",
   "execution_count": 7,
   "id": "e479eeef-78a1-4570-ad05-a7cacf1144cc",
   "metadata": {},
   "outputs": [
    {
     "data": {
      "text/html": [
       "<div>\n",
       "<style scoped>\n",
       "    .dataframe tbody tr th:only-of-type {\n",
       "        vertical-align: middle;\n",
       "    }\n",
       "\n",
       "    .dataframe tbody tr th {\n",
       "        vertical-align: top;\n",
       "    }\n",
       "\n",
       "    .dataframe thead th {\n",
       "        text-align: right;\n",
       "    }\n",
       "</style>\n",
       "<table border=\"1\" class=\"dataframe\">\n",
       "  <thead>\n",
       "    <tr style=\"text-align: right;\">\n",
       "      <th></th>\n",
       "      <th>title</th>\n",
       "      <th>pcount</th>\n",
       "      <th>sim</th>\n",
       "    </tr>\n",
       "  </thead>\n",
       "  <tbody>\n",
       "    <tr>\n",
       "      <th>1</th>\n",
       "      <td>a title #</td>\n",
       "      <td>1284</td>\n",
       "      <td>1.000000</td>\n",
       "    </tr>\n",
       "    <tr>\n",
       "      <th>21</th>\n",
       "      <td>a title</td>\n",
       "      <td>41</td>\n",
       "      <td>0.722009</td>\n",
       "    </tr>\n",
       "    <tr>\n",
       "      <th>10</th>\n",
       "      <td>a same title #</td>\n",
       "      <td>149</td>\n",
       "      <td>0.563197</td>\n",
       "    </tr>\n",
       "    <tr>\n",
       "      <th>8</th>\n",
       "      <td>a other title #</td>\n",
       "      <td>157</td>\n",
       "      <td>0.557951</td>\n",
       "    </tr>\n",
       "    <tr>\n",
       "      <th>5</th>\n",
       "      <td>a interestin title #</td>\n",
       "      <td>172</td>\n",
       "      <td>0.548453</td>\n",
       "    </tr>\n",
       "  </tbody>\n",
       "</table>\n",
       "</div>"
      ],
      "text/plain": [
       "                   title  pcount       sim\n",
       "1              a title #    1284  1.000000\n",
       "21               a title      41  0.722009\n",
       "10        a same title #     149  0.563197\n",
       "8        a other title #     157  0.557951\n",
       "5   a interestin title #     172  0.548453"
      ]
     },
     "execution_count": 7,
     "metadata": {},
     "output_type": "execute_result"
    }
   ],
   "source": [
    "def nearest_categories(cat):\n",
    "    cid = t2tid[cat]\n",
    "    pivot = categories.loc[cid].vec\n",
    "    x = pivot.reshape(1, -1)\n",
    "    y = np.vstack(categories.vec)\n",
    "    # return x.shape, y.shape\n",
    "    sim = cosine_similarity(x, y)[0]\n",
    "    simord = sim.argsort()\n",
    "    # return sim.argsort()\n",
    "    near = categories.iloc[simord, :2].copy()\n",
    "    near[\"sim\"] = sim[simord]\n",
    "    return near.iloc[::-1]\n",
    "    \n",
    "# nearest_categories(\"medikace\").head(5)\n",
    "nearest_categories(\"a title #\").head(5)"
   ]
  },
  {
   "cell_type": "markdown",
   "id": "cc607fcf-ca6a-4c1c-8eb2-fc0a71a23fa4",
   "metadata": {},
   "source": [
    "### All"
   ]
  },
  {
   "cell_type": "code",
   "execution_count": 8,
   "id": "3e64b7f2-9aba-457f-a578-5adb854404f2",
   "metadata": {},
   "outputs": [],
   "source": [
    "categories[\"Fall\"] = True\n",
    "# categories"
   ]
  },
  {
   "cell_type": "markdown",
   "id": "19f2a157-9554-41a6-bd88-34b391239ed6",
   "metadata": {},
   "source": [
    "You can skip selecting other categories, it does not make any sense on the dummy data.\n",
    "Skip until the [**Output**](#output) section"
   ]
  },
  {
   "cell_type": "markdown",
   "id": "8913e15a-512a-4b7c-8d64-c5cc0edb98b8",
   "metadata": {},
   "source": [
    "### K01 - Věk"
   ]
  },
  {
   "cell_type": "code",
   "execution_count": 226,
   "id": "2400337b-f24a-42cd-b3f6-07bc442c852a",
   "metadata": {},
   "outputs": [
    {
     "data": {
      "text/plain": [
       "69496"
      ]
     },
     "execution_count": 226,
     "metadata": {},
     "output_type": "execute_result"
    }
   ],
   "source": [
    "basename = \"objektivne\"\n",
    "colname = \"Fr01\"\n",
    "base = nearest_categories(basename).query(\"sim > 0.70\")\n",
    "base\n",
    "\n",
    "minus = set([])\n",
    "plus = set([])\n",
    "cutoff = 0.8\n",
    "\n",
    "chosen = set(nearest_categories(basename).query(f\"sim > {cutoff}\").index)\n",
    "chosen.difference_update(minus)\n",
    "chosen.update(plus)\n",
    "categories[colname] = False\n",
    "categories.loc[sorted(chosen), colname] = True\n",
    "categories[categories[colname]].pcount.sum()"
   ]
  },
  {
   "cell_type": "markdown",
   "id": "68a05c4b-efc9-42c5-bf68-dcc1098edbb9",
   "metadata": {},
   "source": [
    "### K02 - Rodinná anamnéza\n",
    "- Zárodečná mutace (BRCA1,2, CHECK2, Lynchův syndrom atd.)\n",
    "- Zvýšený výskyt nádorů v rodině - 2 a více malignit různého typu u přímých příbuzných (rodiče, sourozenci, děti)\n",
    "- Bez zvýšeného výskytu ZN v rodině\n",
    "\n",
    "POST: -provedeno"
   ]
  },
  {
   "cell_type": "code",
   "execution_count": 115,
   "id": "dec4c487-7c14-4784-bbba-b97ace30d804",
   "metadata": {},
   "outputs": [
    {
     "data": {
      "text/plain": [
       "35334"
      ]
     },
     "execution_count": 115,
     "metadata": {},
     "output_type": "execute_result"
    }
   ],
   "source": [
    "base = nearest_categories(\"ra\").query(\"sim > 0.5\")\n",
    "colname = \"Fr02\"\n",
    "\n",
    "minus = set([619, 1745, 446, 44])\n",
    "plus = set([1247, 219])\n",
    "cutoff = 0.55\n",
    "\n",
    "chosen = set(nearest_categories(\"ra\").query(f\"sim > {cutoff}\").index)\n",
    "chosen.difference_update(minus)\n",
    "chosen.update(plus)\n",
    "categories[colname] = False\n",
    "categories.loc[sorted(chosen), colname] = True\n",
    "categories[categories[colname]].pcount.sum()\n",
    "# categories.loc[sorted(chosen)]"
   ]
  },
  {
   "cell_type": "markdown",
   "id": "13762e23-2874-417c-9bad-8f2b97a987b1",
   "metadata": {},
   "source": [
    "### K03 - Osobní anamnéza\n",
    "- 1-4 komorbidity\n",
    "- Bez komorbidit\n",
    "- 4 a více komorbidit -polymorbidní pacient"
   ]
  },
  {
   "cell_type": "code",
   "execution_count": 116,
   "id": "fc529d29-2b53-4a6f-af92-ea1839d9e92f",
   "metadata": {},
   "outputs": [
    {
     "data": {
      "text/plain": [
       "189689"
      ]
     },
     "execution_count": 116,
     "metadata": {},
     "output_type": "execute_result"
    }
   ],
   "source": [
    "basename = \"oa\"\n",
    "colname = \"Fr03\"\n",
    "base = nearest_categories(basename).query(\"0.6 > sim > 0.55\")\n",
    "\n",
    "\n",
    "minus = set([219, 1745, 154])\n",
    "plus = set([1870, 1017])\n",
    "cutoff = 0.57\n",
    "\n",
    "chosen = set(nearest_categories(basename).query(f\"sim > {cutoff}\").index)\n",
    "chosen.difference_update(minus)\n",
    "chosen.update(plus)\n",
    "categories[colname] = False\n",
    "categories.loc[sorted(chosen), colname] = True\n",
    "categories[categories[colname]].pcount.sum()"
   ]
  },
  {
   "cell_type": "markdown",
   "id": "e1a2e417-b4a5-4fee-8103-c9ebc4b37c31",
   "metadata": {},
   "source": [
    "### K04 - Sociální anamnéza\n",
    "- Manuálně pracující\n",
    "- Administrativní činnost\n",
    "- Starobní důchodce\n",
    "- Manažer, majitel firmy, podnikatel\n",
    "- Student/ka\n",
    "\n",
    "\n",
    "\\+ pa - pracovni anamneza"
   ]
  },
  {
   "cell_type": "code",
   "execution_count": 117,
   "id": "956dc5a0-8e02-4a1b-83af-3fcc65343446",
   "metadata": {},
   "outputs": [
    {
     "data": {
      "text/plain": [
       "49068"
      ]
     },
     "execution_count": 117,
     "metadata": {},
     "output_type": "execute_result"
    }
   ],
   "source": [
    "basename = \"sa\"\n",
    "colname = \"Fr04\"\n",
    "base = nearest_categories(basename).query(\"sim > 0.55\")\n",
    "base\n",
    "\n",
    "minus = set([1113, 24, ])\n",
    "plus = set([1313, 1434])\n",
    "cutoff = 0.588\n",
    "\n",
    "chosen = set(nearest_categories(basename).query(f\"sim > {cutoff}\").index)\n",
    "chosen.difference_update(minus)\n",
    "chosen.update(plus)\n",
    "categories[colname] = False\n",
    "categories.loc[sorted(chosen), colname] = True\n",
    "categories[categories[colname]].pcount.sum()"
   ]
  },
  {
   "cell_type": "markdown",
   "id": "90b7747b-1ba9-4fe4-8747-398a8bac5e5f",
   "metadata": {},
   "source": [
    "### K05 - Medikace\n",
    "- Bez medikace\n",
    "- Do 3 trvale užívaných preparátů\n",
    "- Nad 3 trvale užívané preparáty\n",
    "\n",
    "post: -pocatek podani, -nalez"
   ]
  },
  {
   "cell_type": "code",
   "execution_count": 218,
   "id": "21a5a7ad-97e6-4a62-a712-88316232deac",
   "metadata": {},
   "outputs": [
    {
     "data": {
      "text/plain": [
       "135888"
      ]
     },
     "execution_count": 218,
     "metadata": {},
     "output_type": "execute_result"
    }
   ],
   "source": [
    "basename = \"medikace\"\n",
    "colname = \"Fr05\"\n",
    "base = nearest_categories(basename).query(\"0.6 > sim > 0.55\")\n",
    "base\n",
    "\n",
    "minus = set([1858])\n",
    "plus = set([11,15, 209])\n",
    "cutoff = 0.583\n",
    "\n",
    "chosen = set(nearest_categories(basename).query(f\"sim > {cutoff}\").index)\n",
    "chosen.difference_update(minus)\n",
    "chosen.update(plus)\n",
    "categories[colname] = False\n",
    "categories.loc[sorted(chosen), colname] = True\n",
    "categories[categories[colname]].pcount.sum()"
   ]
  },
  {
   "cell_type": "markdown",
   "id": "5ff7f4e8-aa18-4324-8c9d-df5d59da2419",
   "metadata": {},
   "source": [
    "### K06 - Alergie\n",
    "- Nejsou\n",
    "- Jsou\n"
   ]
  },
  {
   "cell_type": "code",
   "execution_count": 125,
   "id": "e8ffc59e-e959-4583-bc1b-e6cf2bcafbdb",
   "metadata": {},
   "outputs": [
    {
     "data": {
      "text/plain": [
       "29915"
      ]
     },
     "execution_count": 125,
     "metadata": {},
     "output_type": "execute_result"
    }
   ],
   "source": [
    "basename = \"alergie\"\n",
    "colname = \"Fr06\"\n",
    "base = nearest_categories(basename).query(\"sim > 0.55\")\n",
    "base\n",
    "\n",
    "minus = set([])\n",
    "plus = set([])\n",
    "cutoff = 0.71\n",
    "\n",
    "chosen = set(nearest_categories(basename).query(f\"sim > {cutoff}\").index)\n",
    "chosen.difference_update(minus)\n",
    "chosen.update(plus)\n",
    "categories[colname] = False\n",
    "categories.loc[sorted(chosen), colname] = True\n",
    "categories[categories[colname]].pcount.sum()"
   ]
  },
  {
   "cell_type": "markdown",
   "id": "88546914-5095-4163-903e-039b7d18bdba",
   "metadata": {},
   "source": [
    "### K07 - Tumor\n",
    "- Histologický typ\n",
    "- SR pozitivita\n",
    "- HER 2 pozitivita\n",
    "- KI 67 (nízký do 20%, střední 20-50%, vysoký nad 50%)\n"
   ]
  },
  {
   "cell_type": "markdown",
   "id": "7837f251-ff42-43d1-b7f6-8029ebc2473e",
   "metadata": {},
   "source": [
    "status localis  \n",
    "obj  \n",
    "vysledek  "
   ]
  },
  {
   "cell_type": "code",
   "execution_count": 228,
   "id": "74a8ab6f-96a8-4bff-8240-af5b47ea3faa",
   "metadata": {},
   "outputs": [
    {
     "data": {
      "text/plain": [
       "209462"
      ]
     },
     "execution_count": 228,
     "metadata": {},
     "output_type": "execute_result"
    }
   ],
   "source": [
    "basename = \"status localis\"\n",
    "colname = \"Fr07\"\n",
    "base = nearest_categories(basename).query(\"0.75 > sim > 0.65\")\n",
    "base\n",
    "\n",
    "minus = set([])\n",
    "plus = set([8, 10, 37, 13, 107]) # klasifikace, vysledek\n",
    "cutoff = 0.676\n",
    "\n",
    "chosen = set(nearest_categories(basename).query(f\"sim > {cutoff}\").index)\n",
    "chosen.difference_update(minus)\n",
    "chosen.update(plus)\n",
    "categories[colname] = False\n",
    "categories.loc[sorted(chosen), colname] = True\n",
    "categories[categories[colname]].pcount.sum()"
   ]
  },
  {
   "cell_type": "markdown",
   "id": "9ffef218-a405-471c-8963-cad4d7443dc2",
   "metadata": {},
   "source": [
    "### K08 - Léčba\n",
    "- Adjuvantní\n",
    "- Neoadjuvantní\n",
    "- Paliativní\n"
   ]
  },
  {
   "cell_type": "markdown",
   "id": "a51826ab-443e-4bd2-9d04-6044a55d0ece",
   "metadata": {},
   "source": [
    "???  \n",
    "ae 162\n"
   ]
  },
  {
   "cell_type": "code",
   "execution_count": 179,
   "id": "b24481c9-f556-435f-961e-055c1d8848bd",
   "metadata": {},
   "outputs": [
    {
     "data": {
      "text/plain": [
       "607199"
      ]
     },
     "execution_count": 179,
     "metadata": {},
     "output_type": "execute_result"
    }
   ],
   "source": [
    "basename = \"zaver\"\n",
    "colname = \"Fr08\"\n",
    "base = nearest_categories(basename).query(\"0.75 >  sim > 0.70\")\n",
    "base\n",
    "\n",
    "minus = set([])\n",
    "plus = set([])\n",
    "cutoff = 0.676\n",
    "\n",
    "chosen = set(nearest_categories(\"zaver\").query(f\"sim > 0.70\").index)\n",
    "chosen.update(set(nearest_categories(\"doporuceni\").query(f\"sim > 0.55\").index))\n",
    "chosen.difference_update(minus)\n",
    "chosen.update(plus)\n",
    "categories[colname] = False\n",
    "categories.loc[sorted(chosen), colname] = True\n",
    "categories[categories[colname]].pcount.sum()"
   ]
  },
  {
   "cell_type": "markdown",
   "id": "70b37029-20eb-47d2-8cd6-47934683d77e",
   "metadata": {},
   "source": [
    "### K09 - Typ léčby\n",
    "- Chemoterapie\n",
    "- Hormonoterapie\n",
    "- Cílená léčba\n",
    "- Imunoterapie\n",
    "- Radioterapie\n",
    "- Chirurgie"
   ]
  },
  {
   "cell_type": "markdown",
   "id": "5c147e8d-24c0-4326-9e61-3ac2f22c4e12",
   "metadata": {},
   "source": [
    "doporuceni  \n",
    "zaver  \n",
    "postup  \n",
    "info pro lekare 70  \n"
   ]
  },
  {
   "cell_type": "code",
   "execution_count": 180,
   "id": "68ef3dbf-416b-4839-bae8-381e9dedacfe",
   "metadata": {},
   "outputs": [
    {
     "data": {
      "text/plain": [
       "607199"
      ]
     },
     "execution_count": 180,
     "metadata": {},
     "output_type": "execute_result"
    }
   ],
   "source": [
    "basename = \"zaver\"\n",
    "colname = \"Fr09\"\n",
    "base = nearest_categories(basename).query(\"0.75 >  sim > 0.70\")\n",
    "base\n",
    "\n",
    "minus = set([])\n",
    "plus = set([])\n",
    "cutoff = 0.676\n",
    "\n",
    "chosen = set(nearest_categories(\"zaver\").query(f\"sim > 0.70\").index)\n",
    "chosen.update(set(nearest_categories(\"doporuceni\").query(f\"sim > 0.55\").index))\n",
    "chosen.difference_update(minus)\n",
    "chosen.update(plus)\n",
    "categories[colname] = False\n",
    "categories.loc[sorted(chosen), colname] = True\n",
    "categories[categories[colname]].pcount.sum()"
   ]
  },
  {
   "cell_type": "markdown",
   "id": "999536f6-9bd8-48cd-935b-88a6480023d9",
   "metadata": {},
   "source": [
    "### K10 - Nežádoucí účinky léčby\n",
    "- Gastrointestinální\n",
    "- Hepatální\n",
    "- Neurologické\n",
    "- Oční\n",
    "- Kardiální\n",
    "- Plicní\n",
    "- Urologické\n",
    "- Muskuloskeletální\n",
    "- Gynekologické\n",
    "- Ušní, nosní, krční\n",
    "- Kožní\n"
   ]
  },
  {
   "cell_type": "code",
   "execution_count": 223,
   "id": "84cffbc7-0274-4882-bc31-fa6ec2a7cc37",
   "metadata": {},
   "outputs": [
    {
     "data": {
      "text/plain": [
       "123691"
      ]
     },
     "execution_count": 223,
     "metadata": {},
     "output_type": "execute_result"
    }
   ],
   "source": [
    "basename = \"subjektivni potize\"\n",
    "colname = \"Fr10\"\n",
    "base = nearest_categories(basename).query(\"sim > 0.60\")\n",
    "base\n",
    "\n",
    "minus = set([])\n",
    "plus = set([529, 1633])\n",
    "cutoff = 0.60\n",
    "\n",
    "chosen = set(nearest_categories(basename).query(f\"sim > {cutoff}\").index)\n",
    "chosen.difference_update(minus)\n",
    "chosen.update(plus)\n",
    "categories[colname] = False\n",
    "categories.loc[sorted(chosen), colname] = True\n",
    "categories[categories[colname]].pcount.sum()"
   ]
  },
  {
   "cell_type": "markdown",
   "id": "be72ac6b-d964-4494-8b42-94e8fba4b78f",
   "metadata": {},
   "source": [
    "<a name=\"output\"></a>\n",
    "## Output"
   ]
  },
  {
   "cell_type": "code",
   "execution_count": 10,
   "id": "5ca0d02f-3db7-4473-92ab-aae8d6ba5671",
   "metadata": {},
   "outputs": [
    {
     "data": {
      "text/html": [
       "<div>\n",
       "<style scoped>\n",
       "    .dataframe tbody tr th:only-of-type {\n",
       "        vertical-align: middle;\n",
       "    }\n",
       "\n",
       "    .dataframe tbody tr th {\n",
       "        vertical-align: top;\n",
       "    }\n",
       "\n",
       "    .dataframe thead th {\n",
       "        text-align: right;\n",
       "    }\n",
       "</style>\n",
       "<table border=\"1\" class=\"dataframe\">\n",
       "  <thead>\n",
       "    <tr style=\"text-align: right;\">\n",
       "      <th></th>\n",
       "      <th>title</th>\n",
       "      <th>pcount</th>\n",
       "      <th>vec</th>\n",
       "      <th>Fall</th>\n",
       "    </tr>\n",
       "  </thead>\n",
       "  <tbody>\n",
       "    <tr>\n",
       "      <th>1</th>\n",
       "      <td>a title #</td>\n",
       "      <td>1284</td>\n",
       "      <td>[-0.203216, -0.9543775, -1.4384353, 1.1079152,...</td>\n",
       "      <td>True</td>\n",
       "    </tr>\n",
       "    <tr>\n",
       "      <th>2</th>\n",
       "      <td>other title #</td>\n",
       "      <td>2753</td>\n",
       "      <td>[-0.23859496, 0.43761224, -0.75037026, 0.21120...</td>\n",
       "      <td>True</td>\n",
       "    </tr>\n",
       "    <tr>\n",
       "      <th>3</th>\n",
       "      <td>title #</td>\n",
       "      <td>255</td>\n",
       "      <td>[-1.0362962, -0.24237698, -0.4801941, 0.434444...</td>\n",
       "      <td>True</td>\n",
       "    </tr>\n",
       "    <tr>\n",
       "      <th>4</th>\n",
       "      <td>some title #</td>\n",
       "      <td>210</td>\n",
       "      <td>[-0.4671393, 0.278243, 0.70961726, 0.53670365,...</td>\n",
       "      <td>True</td>\n",
       "    </tr>\n",
       "    <tr>\n",
       "      <th>5</th>\n",
       "      <td>a interestin title #</td>\n",
       "      <td>172</td>\n",
       "      <td>[-0.24984509, -0.79904723, -0.32063228, 0.9148...</td>\n",
       "      <td>True</td>\n",
       "    </tr>\n",
       "  </tbody>\n",
       "</table>\n",
       "</div>"
      ],
      "text/plain": [
       "                  title  pcount  \\\n",
       "1             a title #    1284   \n",
       "2         other title #    2753   \n",
       "3               title #     255   \n",
       "4          some title #     210   \n",
       "5  a interestin title #     172   \n",
       "\n",
       "                                                 vec  Fall  \n",
       "1  [-0.203216, -0.9543775, -1.4384353, 1.1079152,...  True  \n",
       "2  [-0.23859496, 0.43761224, -0.75037026, 0.21120...  True  \n",
       "3  [-1.0362962, -0.24237698, -0.4801941, 0.434444...  True  \n",
       "4  [-0.4671393, 0.278243, 0.70961726, 0.53670365,...  True  \n",
       "5  [-0.24984509, -0.79904723, -0.32063228, 0.9148...  True  "
      ]
     },
     "execution_count": 10,
     "metadata": {},
     "output_type": "execute_result"
    }
   ],
   "source": [
    "categories.head(5)"
   ]
  },
  {
   "cell_type": "code",
   "execution_count": 14,
   "id": "5c96c3ee-8b08-464c-aacb-d21c50a5370b",
   "metadata": {},
   "outputs": [],
   "source": [
    "categories.reset_index().to_feather(f\"{PACSIM_DATA}/parts/categories_pred.feather\")"
   ]
  },
  {
   "cell_type": "code",
   "execution_count": 37,
   "id": "1d99be61-55da-432a-a203-a768e7623c6e",
   "metadata": {},
   "outputs": [
    {
     "name": "stdout",
     "output_type": "stream",
     "text": [
      "\\begin{tabular}{llrr}\n",
      " & title & pcount & percent \\\\\n",
      "index &  &  &  \\\\\n",
      "1 & zaver & 129783 & 4.87 \\\\\n",
      "2 & doporuceni & 161882 & 6.07 \\\\\n",
      "3 & lab. vysetreni & 52249 & 1.96 \\\\\n",
      "4 & vysetreni & 45890 & 1.72 \\\\\n",
      "5 & lekar & 37551 & 1.41 \\\\\n",
      "6 & evidence & 37309 & 1.40 \\\\\n",
      "7 & pristroj & 35171 & 1.32 \\\\\n",
      "8 & klasifikace & 34278 & 1.29 \\\\\n",
      "9 & exam type & 31512 & 1.18 \\\\\n",
      "10 & nalez [ep & 31040 & 1.16 \\\\\n",
      "11 & m & 28531 & 1.07 \\\\\n",
      "12 & fa & 31065 & 1.17 \\\\\n",
      "13 & vysledek & 21739 & 0.82 \\\\\n",
      "14 & pocatek podani & 21312 & 0.80 \\\\\n",
      "15 & pm & 21531 & 0.81 \\\\\n",
      "16 & mg #.cteni [ep & 19848 & 0.74 \\\\\n",
      "17 & alergie & 21120 & 0.79 \\\\\n",
      "18 & operace & 36614 & 1.37 \\\\\n",
      "19 & expozice & 14606 & 0.55 \\\\\n",
      "20 & provedl & 14863 & 0.56 \\\\\n",
      "21 & prijem & 14151 & 0.53 \\\\\n",
      "22 & res & 35115 & 1.32 \\\\\n",
      "23 & provedeno & 14067 & 0.53 \\\\\n",
      "24 & ra & 16404 & 0.62 \\\\\n",
      "25 & interkurence & 22279 & 0.84 \\\\\n",
      "26 & vyska & 13113 & 0.49 \\\\\n",
      "27 & linie & 12850 & 0.48 \\\\\n",
      "28 & rezim & 12610 & 0.47 \\\\\n",
      "29 & res. & 21125 & 0.79 \\\\\n",
      "30 & tk/puls & 12063 & 0.45 \\\\\n",
      "31 & cevni vstup & 11477 & 0.43 \\\\\n",
      "32 & poznamky & 10972 & 0.41 \\\\\n",
      "33 & osobni anamneza & 14044 & 0.53 \\\\\n",
      "34 & objektivni vysetreni & 15617 & 0.59 \\\\\n",
      "35 & subjektivni potize & 18702 & 0.70 \\\\\n",
      "36 & karnofsky index & 10208 & 0.38 \\\\\n",
      "37 & mikroskopicky nalez & 10004 & 0.38 \\\\\n",
      "38 & ga & 11050 & 0.41 \\\\\n",
      "39 & subj. & 40093 & 1.50 \\\\\n",
      "40 & konzultace & 9438 & 0.35 \\\\\n",
      "41 & obj. & 34834 & 1.31 \\\\\n",
      "42 & interval & 8518 & 0.32 \\\\\n",
      "43 & makroskopicky nalez & 9326 & 0.35 \\\\\n",
      "44 & sa & 8510 & 0.32 \\\\\n",
      "45 & pa & 8651 & 0.32 \\\\\n",
      "46 & # & 9312 & 0.35 \\\\\n",
      "47 & diagnosticky souhrn & 11496 & 0.43 \\\\\n",
      "48 & topografie(icd-o-#) & 7547 & 0.28 \\\\\n",
      "49 & abusus & 8602 & 0.32 \\\\\n",
      "50 & zapsala & 15096 & 0.57 \\\\\n",
      "51 & usg [ep & 7022 & 0.26 \\\\\n",
      "52 & koureni & 6898 & 0.26 \\\\\n",
      "53 & ## & 8361 & 0.31 \\\\\n",
      "54 & porody & 6412 & 0.24 \\\\\n",
      "55 & ekg & 11229 & 0.42 \\\\\n",
      "56 & gynekologicke operace & 7175 & 0.27 \\\\\n",
      "57 & dg & 11917 & 0.45 \\\\\n",
      "58 & hormonalni lecba & 6855 & 0.26 \\\\\n",
      "59 & angioinvaze & 6475 & 0.24 \\\\\n",
      "60 & rozvaha & 28803 & 1.08 \\\\\n",
      "61 & mastitis & 5729 & 0.21 \\\\\n",
      "62 & antikoncepce & 5886 & 0.22 \\\\\n",
      "63 & gynekologicka onemocneni & 7127 & 0.27 \\\\\n",
      "64 & osetrovatelske mereni & 5688 & 0.21 \\\\\n",
      "65 & hrudnik & 9255 & 0.35 \\\\\n",
      "66 & hlava & 6262 & 0.23 \\\\\n",
      "67 & hmotnost & 5593 & 0.21 \\\\\n",
      "68 & popis & 7028 & 0.26 \\\\\n",
      "69 & zdravotnicke prostredky & 5206 & 0.20 \\\\\n",
      "70 & informace pro lekare & 5952 & 0.22 \\\\\n",
      "71 & krk & 6510 & 0.24 \\\\\n",
      "72 & zapsal & 5458 & 0.20 \\\\\n",
      "73 & lecebna odpoved & 4998 & 0.19 \\\\\n",
      "74 & oa & 33684 & 1.26 \\\\\n",
      "75 & dopor. & 18005 & 0.68 \\\\\n",
      "76 & pred vykonem nutno doplnit & 11281 & 0.42 \\\\\n",
      "77 & osobni anamn. & 28109 & 1.05 \\\\\n",
      "78 & rtg & 10690 & 0.40 \\\\\n",
      "79 & asa & 5794 & 0.22 \\\\\n",
      "80 & zakl. dg. & 21717 & 0.81 \\\\\n",
      "81 & bricho & 12657 & 0.47 \\\\\n",
      "82 & farmakol.anamn. & 15763 & 0.59 \\\\\n",
      "83 & medikace & 8905 & 0.33 \\\\\n",
      "84 & dkk & 11652 & 0.44 \\\\\n",
      "85 & s & 8094 & 0.30 \\\\\n",
      "86 & vykon & 12750 & 0.48 \\\\\n",
      "87 & premedikace - vecer & 4658 & 0.17 \\\\\n",
      "88 & recept & 4031 & 0.15 \\\\\n",
      "89 & er & 5185 & 0.19 \\\\\n",
      "90 & dop. & 31998 & 1.20 \\\\\n",
      "91 & st. localis & 6373 & 0.24 \\\\\n",
      "92 & zobrazovaci a laboratorni vysetreni & 5149 & 0.19 \\\\\n",
      "93 & obj & 8506 & 0.32 \\\\\n",
      "94 & her-# imunohistochemicky & 3707 & 0.14 \\\\\n",
      "95 & erytrocyty & 3716 & 0.14 \\\\\n",
      "96 & frakcionace & 3467 & 0.13 \\\\\n",
      "97 & diagnoza & 3786 & 0.14 \\\\\n",
      "98 & pr & 3687 & 0.14 \\\\\n",
      "99 & st.localis & 15115 & 0.57 \\\\\n",
      "100 & technika & 3388 & 0.13 \\\\\n",
      "\\end{tabular}\n",
      "\n"
     ]
    }
   ],
   "source": [
    "def cattable(categories):\n",
    "    cat = categories.copy()\n",
    "    cat[\"percent\"] = (categories[\"pcount\"] / categories[\"pcount\"].sum()).round(4)*100\n",
    "    cat = cat[[\"index\", \"title\", \"pcount\", \"percent\"]].set_index(\"index\")\n",
    "    return cat.iloc[:100].style.format(\"{:.2f}\", subset=[\"percent\"]).to_latex()\n",
    "\n",
    "print(cattable(categories))"
   ]
  }
 ],
 "metadata": {
  "kernelspec": {
   "display_name": "Python 3 (ipykernel)",
   "language": "python",
   "name": "python3"
  },
  "language_info": {
   "codemirror_mode": {
    "name": "ipython",
    "version": 3
   },
   "file_extension": ".py",
   "mimetype": "text/x-python",
   "name": "python",
   "nbconvert_exporter": "python",
   "pygments_lexer": "ipython3",
   "version": "3.8.10"
  }
 },
 "nbformat": 4,
 "nbformat_minor": 5
}
