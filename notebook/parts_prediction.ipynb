{
 "cells": [
  {
   "cell_type": "markdown",
   "id": "c58a0b6b-915e-4bd6-9244-f24896fe52fa",
   "metadata": {},
   "source": [
    "# Predicting segment types of all segments"
   ]
  },
  {
   "cell_type": "code",
   "execution_count": 1,
   "id": "35ef4fc9-397d-49e8-9242-22314303c09e",
   "metadata": {},
   "outputs": [],
   "source": [
    "import pandas as pd\n",
    "import numpy as np\n",
    "import seaborn as sns\n",
    "from matplotlib import pyplot as plt\n",
    "import json\n",
    "import random\n",
    "from pprint import pprint\n",
    "import os\n",
    "import sys\n",
    "import pickle\n",
    "\n",
    "AICOPE_PY_LIB = os.environ.get(\"AICOPE_PY_LIB\")\n",
    "if AICOPE_PY_LIB and AICOPE_PY_LIB not in sys.path: sys.path.append(AICOPE_PY_LIB)\n",
    "import importlib\n",
    "import aicnlp\n",
    "importlib.reload(aicnlp)\n",
    "\n",
    "%config Completer.use_jedi = False\n",
    "PACSIM_DATA = os.environ.get(\"AICOPE_SCRATCH\") + \"/pacsim\""
   ]
  },
  {
   "cell_type": "code",
   "execution_count": 2,
   "id": "2f470299-8ca6-45aa-8da9-ce761676a2dc",
   "metadata": {},
   "outputs": [
    {
     "data": {
      "text/html": [
       "<div>\n",
       "<style scoped>\n",
       "    .dataframe tbody tr th:only-of-type {\n",
       "        vertical-align: middle;\n",
       "    }\n",
       "\n",
       "    .dataframe tbody tr th {\n",
       "        vertical-align: top;\n",
       "    }\n",
       "\n",
       "    .dataframe thead th {\n",
       "        text-align: right;\n",
       "    }\n",
       "</style>\n",
       "<table border=\"1\" class=\"dataframe\">\n",
       "  <thead>\n",
       "    <tr style=\"text-align: right;\">\n",
       "      <th></th>\n",
       "      <th>rid</th>\n",
       "      <th>pid</th>\n",
       "      <th>rord</th>\n",
       "      <th>srord</th>\n",
       "      <th>text</th>\n",
       "      <th>stext</th>\n",
       "      <th>title</th>\n",
       "      <th>stitle</th>\n",
       "      <th>label</th>\n",
       "      <th>tid</th>\n",
       "      <th>pred</th>\n",
       "    </tr>\n",
       "  </thead>\n",
       "  <tbody>\n",
       "    <tr>\n",
       "      <th>0</th>\n",
       "      <td>0</td>\n",
       "      <td>0</td>\n",
       "      <td>0</td>\n",
       "      <td>0</td>\n",
       "      <td>Konzilium.\\n</td>\n",
       "      <td>Konzilium.\\n</td>\n",
       "      <td>None</td>\n",
       "      <td>None</td>\n",
       "      <td>-1</td>\n",
       "      <td>-1</td>\n",
       "      <td>-1</td>\n",
       "    </tr>\n",
       "  </tbody>\n",
       "</table>\n",
       "</div>"
      ],
      "text/plain": [
       "   rid  pid  rord  srord          text         stext title stitle  label  tid  \\\n",
       "0    0    0     0      0  Konzilium.\\n  Konzilium.\\n  None   None     -1   -1   \n",
       "\n",
       "   pred  \n",
       "0    -1  "
      ]
     },
     "execution_count": 2,
     "metadata": {},
     "output_type": "execute_result"
    }
   ],
   "source": [
    "with open(f\"{PACSIM_DATA}/parts/tid2t.pickle\", \"rb\") as f:\n",
    "    tid2t = pickle.load(f)\n",
    "    t2tid = {v:k for k, v in tid2t.items()}\n",
    "\n",
    "\n",
    "parts = pd.read_feather(f\"{PACSIM_DATA}/parts/parts.feather\")\n",
    "parts[\"tid\"] = parts.stitle.apply(lambda x: t2tid.get(x, -1))\n",
    "parts[\"pred\"] = parts[\"tid\"]\n",
    "parts.head(1)"
   ]
  },
  {
   "cell_type": "markdown",
   "id": "01ccd165-55af-4821-a0c1-23f94683045c",
   "metadata": {},
   "source": [
    "## Prediction"
   ]
  },
  {
   "cell_type": "code",
   "execution_count": 4,
   "id": "bc38116e-abb9-4037-b9b9-d045b233969d",
   "metadata": {},
   "outputs": [
    {
     "name": "stderr",
     "output_type": "stream",
     "text": [
      "2022-09-27 17:53:06.744105: I tensorflow/core/platform/cpu_feature_guard.cc:193] This TensorFlow binary is optimized with oneAPI Deep Neural Network Library (oneDNN) to use the following CPU instructions in performance-critical operations:  AVX2 FMA\n",
      "To enable them in other operations, rebuild TensorFlow with the appropriate compiler flags.\n",
      "2022-09-27 17:53:07.176124: E tensorflow/stream_executor/cuda/cuda_blas.cc:2981] Unable to register cuBLAS factory: Attempting to register factory for plugin cuBLAS when one has already been registered\n",
      "2022-09-27 17:53:08.449195: W tensorflow/stream_executor/platform/default/dso_loader.cc:64] Could not load dynamic library 'libnvinfer.so.7'; dlerror: libnvinfer.so.7: cannot open shared object file: No such file or directory; LD_LIBRARY_PATH: /usr/local/nvidia/lib:/usr/local/nvidia/lib64\n",
      "2022-09-27 17:53:08.449427: W tensorflow/stream_executor/platform/default/dso_loader.cc:64] Could not load dynamic library 'libnvinfer_plugin.so.7'; dlerror: libnvinfer_plugin.so.7: cannot open shared object file: No such file or directory; LD_LIBRARY_PATH: /usr/local/nvidia/lib:/usr/local/nvidia/lib64\n",
      "2022-09-27 17:53:08.449446: W tensorflow/compiler/tf2tensorrt/utils/py_utils.cc:38] TF-TRT Warning: Cannot dlopen some TensorRT libraries. If you would like to use Nvidia GPU with TensorRT, please make sure the missing libraries mentioned above are installed properly.\n"
     ]
    }
   ],
   "source": [
    "from transformers import AutoTokenizer, AutoModelForSequenceClassification\n",
    "from transformers import Trainer, TrainingArguments\n",
    "import datasets\n",
    "\n",
    "\n",
    "tokenizer = AutoTokenizer.from_pretrained(\"ufal/robeczech-base\")\n",
    "\n",
    "def tokenize_function(ds):\n",
    "    return tokenizer(\n",
    "        ds[\"text\"],\n",
    "        padding=\"max_length\",\n",
    "        max_length=512,\n",
    "        truncation=True,\n",
    "    )"
   ]
  },
  {
   "cell_type": "code",
   "execution_count": 5,
   "id": "61e34ffc-0455-4047-b763-29381254fefc",
   "metadata": {},
   "outputs": [],
   "source": [
    "def get_prediction(df):\n",
    "    ds = datasets.Dataset.from_pandas(df)\n",
    "    ds = ds.map(tokenize_function, batched=True, num_proc=8, desc=\"Tokenizing\")\n",
    "    ds = ds.remove_columns(['__index_level_0__', 'text', 'tid'])\n",
    "    return trainer.predict(ds).predictions"
   ]
  },
  {
   "cell_type": "code",
   "execution_count": 6,
   "id": "5a626f2d-4dbd-4d56-ab9d-7de22c9f5e8b",
   "metadata": {},
   "outputs": [
    {
     "name": "stderr",
     "output_type": "stream",
     "text": [
      "Using cuda_amp half precision backend\n",
      "CODECARBON : No CPU tracking mode found. Falling back on CPU constant mode.\n",
      "CODECARBON : Failed to match CPU TDP constant. Falling back on a global constant.\n"
     ]
    }
   ],
   "source": [
    "model = AutoModelForSequenceClassification.from_pretrained(\n",
    "    f\"{PACSIM_DATA}/parts/checkpoint-180000/\"\n",
    ")\n",
    "\n",
    "training_args = TrainingArguments(\n",
    "    output_dir=\"mgpu/eval\",\n",
    "    per_device_eval_batch_size = 16,\n",
    "    fp16=True,\n",
    "    log_level=\"info\",\n",
    ")\n",
    "\n",
    "trainer = Trainer(model=model, args=training_args)\n",
    "trainer.model = model.cuda()"
   ]
  },
  {
   "cell_type": "code",
   "execution_count": null,
   "id": "f99d8453-a158-4d31-802a-28b4bc5c6112",
   "metadata": {
    "scrolled": true,
    "tags": []
   },
   "outputs": [],
   "source": [
    "# for some reason it randomly allocates more memory when predicting all at once\n",
    "unlabeled = parts.loc[parts[\"tid\"] == -1, [\"text\", \"tid\"]]\n",
    "\n",
    "predictions = []\n",
    "for df in np.array_split(unlabeled, 10):\n",
    "    predictions.append(get_prediction(df))\n",
    "    "
   ]
  },
  {
   "cell_type": "code",
   "execution_count": 9,
   "id": "86424646-1e66-4298-8cd8-75de9bbd4df4",
   "metadata": {},
   "outputs": [
    {
     "data": {
      "text/plain": [
       "(1204940, 2078)"
      ]
     },
     "execution_count": 9,
     "metadata": {},
     "output_type": "execute_result"
    }
   ],
   "source": [
    "pnp = np.vstack(predictions)\n",
    "pnp.shape"
   ]
  },
  {
   "cell_type": "code",
   "execution_count": 14,
   "id": "6dbd5a30-a83f-4140-b7de-b0a7339ef985",
   "metadata": {},
   "outputs": [
    {
     "data": {
      "text/plain": [
       "(1204940,)"
      ]
     },
     "execution_count": 14,
     "metadata": {},
     "output_type": "execute_result"
    }
   ],
   "source": [
    "predmax = pnp.argmax(axis=1)\n",
    "predmax.shape"
   ]
  },
  {
   "cell_type": "code",
   "execution_count": 17,
   "id": "831186b8-5ef3-45a5-9fce-22440fd9443e",
   "metadata": {},
   "outputs": [],
   "source": [
    "parts.loc[parts[\"tid\"] == -1, \"pred\"] = predmax + 1"
   ]
  },
  {
   "cell_type": "code",
   "execution_count": 19,
   "id": "bcc64ea0-f206-4e3f-8b1e-2652dd2082a3",
   "metadata": {},
   "outputs": [],
   "source": [
    "parts[\"ptitle\"] = parts[\"pred\"].map(tid2t)"
   ]
  },
  {
   "cell_type": "code",
   "execution_count": 23,
   "id": "67efddf1-b6a0-4edd-803a-2f9b42cb962a",
   "metadata": {},
   "outputs": [],
   "source": [
    "parts.to_feather(f\"{PACSIM_DATA}/parts/parts_pred.feather\")"
   ]
  }
 ],
 "metadata": {
  "kernelspec": {
   "display_name": "Python 3 (ipykernel)",
   "language": "python",
   "name": "python3"
  },
  "language_info": {
   "codemirror_mode": {
    "name": "ipython",
    "version": 3
   },
   "file_extension": ".py",
   "mimetype": "text/x-python",
   "name": "python",
   "nbconvert_exporter": "python",
   "pygments_lexer": "ipython3",
   "version": "3.8.10"
  }
 },
 "nbformat": 4,
 "nbformat_minor": 5
}
